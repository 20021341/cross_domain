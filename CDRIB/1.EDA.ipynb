{
 "cells": [
  {
   "cell_type": "code",
   "execution_count": 1,
   "metadata": {},
   "outputs": [],
   "source": [
    "import pandas as pd\n",
    "import numpy as np\n",
    "import seaborn as sns\n",
    "import matplotlib as plt"
   ]
  },
  {
   "cell_type": "code",
   "execution_count": 2,
   "metadata": {},
   "outputs": [],
   "source": [
    "df_cd = pd.read_csv(\"/home/thinhnd/workspace/viettel/202403/CDRIB/dataset/cd_movie/CDs_and_Vinyl.csv\")\n",
    "df_movie = pd.read_csv(\"/home/thinhnd/workspace/viettel/202403/CDRIB/dataset/cd_movie/Movies_and_TV.csv\")"
   ]
  },
  {
   "cell_type": "code",
   "execution_count": 3,
   "metadata": {},
   "outputs": [
    {
     "name": "stdout",
     "output_type": "stream",
     "text": [
      "<class 'pandas.core.frame.DataFrame'>\n",
      "RangeIndex: 468098 entries, 0 to 468097\n",
      "Data columns (total 4 columns):\n",
      " #   Column          Non-Null Count   Dtype  \n",
      "---  ------          --------------   -----  \n",
      " 0   reviewerID      468098 non-null  object \n",
      " 1   asin            468098 non-null  object \n",
      " 2   overall         468098 non-null  float64\n",
      " 3   unixReviewTime  468098 non-null  int64  \n",
      "dtypes: float64(1), int64(1), object(2)\n",
      "memory usage: 14.3+ MB\n"
     ]
    }
   ],
   "source": [
    "df_cd.info()"
   ]
  },
  {
   "cell_type": "code",
   "execution_count": 4,
   "metadata": {},
   "outputs": [
    {
     "name": "stdout",
     "output_type": "stream",
     "text": [
      "<class 'pandas.core.frame.DataFrame'>\n",
      "RangeIndex: 562311 entries, 0 to 562310\n",
      "Data columns (total 4 columns):\n",
      " #   Column          Non-Null Count   Dtype  \n",
      "---  ------          --------------   -----  \n",
      " 0   reviewerID      562311 non-null  object \n",
      " 1   asin            562311 non-null  object \n",
      " 2   overall         562311 non-null  float64\n",
      " 3   unixReviewTime  562311 non-null  int64  \n",
      "dtypes: float64(1), int64(1), object(2)\n",
      "memory usage: 17.2+ MB\n"
     ]
    }
   ],
   "source": [
    "df_movie.info()"
   ]
  },
  {
   "cell_type": "code",
   "execution_count": 5,
   "metadata": {},
   "outputs": [],
   "source": [
    "reviewer_movie_ids = df_movie['reviewerID'].unique().tolist()"
   ]
  },
  {
   "cell_type": "code",
   "execution_count": 11,
   "metadata": {},
   "outputs": [
    {
     "name": "stdout",
     "output_type": "stream",
     "text": [
      "<class 'pandas.core.frame.DataFrame'>\n",
      "RangeIndex: 562311 entries, 0 to 562310\n",
      "Data columns (total 4 columns):\n",
      " #   Column          Non-Null Count   Dtype  \n",
      "---  ------          --------------   -----  \n",
      " 0   reviewerID      562311 non-null  object \n",
      " 1   asin            562311 non-null  object \n",
      " 2   overall         562311 non-null  float64\n",
      " 3   unixReviewTime  562311 non-null  int64  \n",
      "dtypes: float64(1), int64(1), object(2)\n",
      "memory usage: 17.2+ MB\n"
     ]
    }
   ],
   "source": [
    "df_movie.info()"
   ]
  },
  {
   "cell_type": "code",
   "execution_count": 12,
   "metadata": {},
   "outputs": [
    {
     "name": "stdout",
     "output_type": "stream",
     "text": [
      "<class 'pandas.core.frame.DataFrame'>\n",
      "RangeIndex: 468098 entries, 0 to 468097\n",
      "Data columns (total 4 columns):\n",
      " #   Column          Non-Null Count   Dtype  \n",
      "---  ------          --------------   -----  \n",
      " 0   reviewerID      468098 non-null  object \n",
      " 1   asin            468098 non-null  object \n",
      " 2   overall         468098 non-null  float64\n",
      " 3   unixReviewTime  468098 non-null  int64  \n",
      "dtypes: float64(1), int64(1), object(2)\n",
      "memory usage: 14.3+ MB\n"
     ]
    }
   ],
   "source": [
    "df_cd.info()"
   ]
  },
  {
   "cell_type": "code",
   "execution_count": 6,
   "metadata": {},
   "outputs": [
    {
     "data": {
      "text/html": [
       "<div>\n",
       "<style scoped>\n",
       "    .dataframe tbody tr th:only-of-type {\n",
       "        vertical-align: middle;\n",
       "    }\n",
       "\n",
       "    .dataframe tbody tr th {\n",
       "        vertical-align: top;\n",
       "    }\n",
       "\n",
       "    .dataframe thead th {\n",
       "        text-align: right;\n",
       "    }\n",
       "</style>\n",
       "<table border=\"1\" class=\"dataframe\">\n",
       "  <thead>\n",
       "    <tr style=\"text-align: right;\">\n",
       "      <th></th>\n",
       "      <th>reviewerID</th>\n",
       "      <th>asin</th>\n",
       "      <th>overall</th>\n",
       "      <th>unixReviewTime</th>\n",
       "    </tr>\n",
       "  </thead>\n",
       "  <tbody>\n",
       "    <tr>\n",
       "      <th>0</th>\n",
       "      <td>A2H3ISQ4QB95XN</td>\n",
       "      <td>0307141985</td>\n",
       "      <td>4.0</td>\n",
       "      <td>1322006400</td>\n",
       "    </tr>\n",
       "    <tr>\n",
       "      <th>1</th>\n",
       "      <td>A6GMEO3VRY51S</td>\n",
       "      <td>0307141985</td>\n",
       "      <td>5.0</td>\n",
       "      <td>1058140800</td>\n",
       "    </tr>\n",
       "    <tr>\n",
       "      <th>2</th>\n",
       "      <td>A3E102F6LPUF1J</td>\n",
       "      <td>0307141985</td>\n",
       "      <td>5.0</td>\n",
       "      <td>1068076800</td>\n",
       "    </tr>\n",
       "    <tr>\n",
       "      <th>3</th>\n",
       "      <td>A2JP0URFHXP6DO</td>\n",
       "      <td>0307141985</td>\n",
       "      <td>5.0</td>\n",
       "      <td>1141171200</td>\n",
       "    </tr>\n",
       "    <tr>\n",
       "      <th>4</th>\n",
       "      <td>A31GBCW6YPY9OW</td>\n",
       "      <td>073890015X</td>\n",
       "      <td>5.0</td>\n",
       "      <td>1378857600</td>\n",
       "    </tr>\n",
       "    <tr>\n",
       "      <th>...</th>\n",
       "      <td>...</td>\n",
       "      <td>...</td>\n",
       "      <td>...</td>\n",
       "      <td>...</td>\n",
       "    </tr>\n",
       "    <tr>\n",
       "      <th>468093</th>\n",
       "      <td>A2QNOQE9A736GS</td>\n",
       "      <td>B00L326LTI</td>\n",
       "      <td>5.0</td>\n",
       "      <td>1405641600</td>\n",
       "    </tr>\n",
       "    <tr>\n",
       "      <th>468094</th>\n",
       "      <td>A1B621EA66Z8KV</td>\n",
       "      <td>B00L326LTI</td>\n",
       "      <td>5.0</td>\n",
       "      <td>1405814400</td>\n",
       "    </tr>\n",
       "    <tr>\n",
       "      <th>468095</th>\n",
       "      <td>A3UKLX2A9T589C</td>\n",
       "      <td>B00L326LTI</td>\n",
       "      <td>5.0</td>\n",
       "      <td>1405468800</td>\n",
       "    </tr>\n",
       "    <tr>\n",
       "      <th>468096</th>\n",
       "      <td>ASSFEY7BG5KIO</td>\n",
       "      <td>B00L326LTI</td>\n",
       "      <td>5.0</td>\n",
       "      <td>1405468800</td>\n",
       "    </tr>\n",
       "    <tr>\n",
       "      <th>468097</th>\n",
       "      <td>A3EVGPGOFVAP09</td>\n",
       "      <td>B00L326LTI</td>\n",
       "      <td>3.0</td>\n",
       "      <td>1405382400</td>\n",
       "    </tr>\n",
       "  </tbody>\n",
       "</table>\n",
       "<p>468098 rows × 4 columns</p>\n",
       "</div>"
      ],
      "text/plain": [
       "            reviewerID        asin  overall  unixReviewTime\n",
       "0       A2H3ISQ4QB95XN  0307141985      4.0      1322006400\n",
       "1        A6GMEO3VRY51S  0307141985      5.0      1058140800\n",
       "2       A3E102F6LPUF1J  0307141985      5.0      1068076800\n",
       "3       A2JP0URFHXP6DO  0307141985      5.0      1141171200\n",
       "4       A31GBCW6YPY9OW  073890015X      5.0      1378857600\n",
       "...                ...         ...      ...             ...\n",
       "468093  A2QNOQE9A736GS  B00L326LTI      5.0      1405641600\n",
       "468094  A1B621EA66Z8KV  B00L326LTI      5.0      1405814400\n",
       "468095  A3UKLX2A9T589C  B00L326LTI      5.0      1405468800\n",
       "468096   ASSFEY7BG5KIO  B00L326LTI      5.0      1405468800\n",
       "468097  A3EVGPGOFVAP09  B00L326LTI      3.0      1405382400\n",
       "\n",
       "[468098 rows x 4 columns]"
      ]
     },
     "execution_count": 6,
     "metadata": {},
     "output_type": "execute_result"
    }
   ],
   "source": [
    "df_cd[df_cd['reviewerID'].isin(reviewer_movie_ids)]"
   ]
  },
  {
   "cell_type": "code",
   "execution_count": 9,
   "metadata": {},
   "outputs": [
    {
     "data": {
      "text/plain": [
       "<AxesSubplot:ylabel='Frequency'>"
      ]
     },
     "execution_count": 9,
     "metadata": {},
     "output_type": "execute_result"
    },
    {
     "data": {
      "image/png": "[encoded data removed]",
      "text/plain": [
       "<Figure size 640x480 with 1 Axes>"
      ]
     },
     "metadata": {},
     "output_type": "display_data"
    }
   ],
   "source": [
    "df_cd['overall'].plot(kind='hist')"
   ]
  },
  {
   "cell_type": "code",
   "execution_count": 14,
   "metadata": {},
   "outputs": [
    {
     "data": {
      "text/plain": [
       "<AxesSubplot:ylabel='Frequency'>"
      ]
     },
     "execution_count": 14,
     "metadata": {},
     "output_type": "execute_result"
    },
    {
     "data": {
      "image/png": "[encoded data removed]",
      "text/plain": [
       "<Figure size 640x480 with 1 Axes>"
      ]
     },
     "metadata": {},
     "output_type": "display_data"
    }
   ],
   "source": [
    "df_movie['overall'].plot(kind='hist')"
   ]
  },
  {
   "cell_type": "code",
   "execution_count": null,
   "metadata": {},
   "outputs": [],
   "source": []
  }
 ],
 "metadata": {
  "kernelspec": {
   "display_name": "CDRIB",
   "language": "python",
   "name": "python3"
  },
  "language_info": {
   "codemirror_mode": {
    "name": "ipython",
    "version": 3
   },
   "file_extension": ".py",
   "mimetype": "text/x-python",
   "name": "python",
   "nbconvert_exporter": "python",
   "pygments_lexer": "ipython3",
   "version": "3.7.12"
  }
 },
 "nbformat": 4,
 "nbformat_minor": 2
}
