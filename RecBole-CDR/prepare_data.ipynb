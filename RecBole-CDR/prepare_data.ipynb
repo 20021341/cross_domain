{
 "cells": [
  {
   "cell_type": "code",
   "execution_count": 1,
   "metadata": {},
   "outputs": [
    {
     "name": "stderr",
     "output_type": "stream",
     "text": [
      "2024-05-09 01:56:54.457991: I tensorflow/core/platform/cpu_feature_guard.cc:193] This TensorFlow binary is optimized with oneAPI Deep Neural Network Library (oneDNN) to use the following CPU instructions in performance-critical operations:  AVX2 FMA\n",
      "To enable them in other operations, rebuild TensorFlow with the appropriate compiler flags.\n",
      "2024-05-09 01:56:54.657934: E tensorflow/stream_executor/cuda/cuda_blas.cc:2981] Unable to register cuBLAS factory: Attempting to register factory for plugin cuBLAS when one has already been registered\n",
      "2024-05-09 01:56:55.289524: W tensorflow/stream_executor/platform/default/dso_loader.cc:64] Could not load dynamic library 'libnvinfer.so.7'; dlerror: libnvinfer.so.7: cannot open shared object file: No such file or directory\n",
      "2024-05-09 01:56:55.289610: W tensorflow/stream_executor/platform/default/dso_loader.cc:64] Could not load dynamic library 'libnvinfer_plugin.so.7'; dlerror: libnvinfer_plugin.so.7: cannot open shared object file: No such file or directory\n",
      "2024-05-09 01:56:55.289620: W tensorflow/compiler/tf2tensorrt/utils/py_utils.cc:38] TF-TRT Warning: Cannot dlopen some TensorRT libraries. If you would like to use Nvidia GPU with TensorRT, please make sure the missing libraries mentioned above are installed properly.\n",
      "09 May 01:57    INFO  \n",
      "General Hyper Parameters:\n",
      "gpu_id = 5\n",
      "use_gpu = True\n",
      "seed = 2022\n",
      "state = INFO\n",
      "reproducibility = True\n",
      "data_path = dataset/\n",
      "checkpoint_dir = saved\n",
      "show_progress = True\n",
      "save_dataset = False\n",
      "dataset_save_path = None\n",
      "save_dataloaders = False\n",
      "dataloaders_save_path = None\n",
      "log_wandb = False\n",
      "\n",
      "Training Hyper Parameters:\n",
      "train_batch_size = 4096\n",
      "learner = adam\n",
      "learning_rate = 0.0005\n",
      "neg_sampling = {'uniform': 1}\n",
      "eval_step = 1\n",
      "stopping_step = 10\n",
      "clip_grad_norm = None\n",
      "weight_decay = 0.0\n",
      "loss_decimal_place = 4\n",
      "epochs = 100\n",
      "\n",
      "Evaluation Hyper Parameters:\n",
      "eval_args = {'split': {'RS': [0.8, 0.1, 0.1]}, 'split_valid': {'RS': [0.8, 0.2]}, 'group_by': 'user', 'order': 'RO', 'mode': 'full'}\n",
      "repeatable = False\n",
      "metrics = ['Recall', 'MRR', 'NDCG', 'Hit', 'Precision']\n",
      "topk = [10]\n",
      "valid_metric = MRR@10\n",
      "valid_metric_bigger = True\n",
      "eval_batch_size = 4096\n",
      "metric_decimal_place = 4\n",
      "\n",
      "Dataset Hyper Parameters:\n",
      "field_separator = \t\n",
      "source_domain = {'dataset': 'AmazonDigitalMusic', 'data_path': '/home/hadh2/projects/cross_domain/data/Amazon/AmazonDigitalMusic', 'seq_separator': ' ', 'USER_ID_FIELD': 'user_id', 'ITEM_ID_FIELD': 'item_id', 'RATING_FIELD': 'rating', 'TIME_FIELD': 'timestamp', 'NEG_PREFIX': 'neg_', 'LABEL_FIELD': 'label', 'load_col': {'inter': ['user_id', 'item_id', 'rating']}, 'user_inter_num_interval': '[5,inf)', 'item_inter_num_interval': '[5,inf)', 'val_interval': {'rating': '[3,inf)'}, 'drop_filter_field': True}\n",
      "target_domain = {'dataset': 'AmazonVideoGames', 'data_path': '/home/hadh2/projects/cross_domain/data/Amazon/AmazonVideoGames', 'seq_separator': ',', 'USER_ID_FIELD': 'user_id', 'ITEM_ID_FIELD': 'item_id', 'RATING_FIELD': 'rating', 'TIME_FIELD': 'timestamp', 'NEG_PREFIX': 'neg_', 'LABEL_FIELD': 'label', 'load_col': {'inter': ['user_id', 'item_id', 'rating']}, 'user_inter_num_interval': '[5,inf)', 'item_inter_num_interval': '[5,inf)', 'val_interval': {'rating': '[3,inf)'}, 'drop_filter_field': True}\n",
      "\n",
      "Other Hyper Parameters: \n",
      "wandb_project = recbole_cdr\n",
      "train_epochs = ['SOURCE:100', 'TARGET:100', 'OVERLAP:100']\n",
      "require_pow = False\n",
      "embedding_size = 128\n",
      "lambda = 0.25\n",
      "margin = 0.3\n",
      "mlp_hidden_size = [128]\n",
      "overlap_batch_size = 1024\n",
      "MODEL_TYPE = ModelType.CROSSDOMAIN\n",
      "MODEL_INPUT_TYPE = InputType.PAIRWISE\n",
      "eval_type = EvaluatorType.RANKING\n",
      "train_modes = ['SOURCE', 'TARGET', 'OVERLAP']\n",
      "epoch_num = ['100', '100', '100']\n",
      "source_split = True\n",
      "device = cuda\n",
      "train_neg_sample_args = {'strategy': 'by', 'by': 1, 'distribution': 'uniform', 'dynamic': 'none'}\n",
      "eval_neg_sample_args = {'strategy': 'full', 'distribution': 'uniform'}\n",
      "\n",
      "\n",
      "/home/hadh2/anaconda3/envs/tf_env/lib/python3.9/site-packages/recbole/data/dataset/dataset.py:570: FutureWarning: A value is trying to be set on a copy of a DataFrame or Series through chained assignment using an inplace method.\n",
      "The behavior will change in pandas 3.0. This inplace method will never work because the intermediate object on which we are setting values always behaves as a copy.\n",
      "\n",
      "For example, when doing 'df[col].method(value, inplace=True)', try using 'df.method({col: value}, inplace=True)' or df[col] = df[col].method(value) instead, to perform the operation inplace on the original object.\n",
      "\n",
      "\n",
      "  feat[field].fillna(value=0, inplace=True)\n",
      "/home/hadh2/anaconda3/envs/tf_env/lib/python3.9/site-packages/recbole/data/dataset/dataset.py:572: FutureWarning: A value is trying to be set on a copy of a DataFrame or Series through chained assignment using an inplace method.\n",
      "The behavior will change in pandas 3.0. This inplace method will never work because the intermediate object on which we are setting values always behaves as a copy.\n",
      "\n",
      "For example, when doing 'df[col].method(value, inplace=True)', try using 'df.method({col: value}, inplace=True)' or df[col] = df[col].method(value) instead, to perform the operation inplace on the original object.\n",
      "\n",
      "\n",
      "  feat[field].fillna(value=feat[field].mean(), inplace=True)\n",
      "09 May 01:57    INFO  Source domain: AmazonDigitalMusic\n",
      "The number of users: 4574\n",
      "Average actions of users: 11.794883008965668\n",
      "The number of items: 3146\n",
      "Average actions of items: 17.15039745627981\n",
      "The number of inters: 53938\n",
      "The sparsity of the dataset: 99.62516515165876%\n",
      "Remain Fields: ['source_user_id', 'source_item_id', 'source_rating']\n",
      "Target domain: AmazonVideoGames\n",
      "The number of users: 18814\n",
      "Average actions of users: 9.438792324456493\n",
      "The number of items: 8692\n",
      "Average actions of items: 20.43171096536647\n",
      "The number of inters: 177572\n",
      "The sparsity of the dataset: 99.89141405160339%\n",
      "Remain Fields: ['target_user_id', 'target_item_id', 'target_rating']\n",
      "Num of overlapped user: 376\n",
      "Num of overlapped item: 1\n",
      "09 May 01:57    INFO  [Training]: train_batch_size = [4096] negative sampling: [{'uniform': 1}]\n",
      "09 May 01:57    INFO  [Evaluation]: eval_batch_size = [4096] eval_args: [{'split': {'RS': [0.8, 0.1, 0.1]}, 'split_valid': {'RS': [0.8, 0.2]}, 'group_by': 'user', 'order': 'RO', 'mode': 'full'}]\n",
      "09 May 01:57    INFO  target user num : 18813\n",
      "09 May 01:57    INFO  SSCDR(\n",
      "  (mapping_layer): MLPLayers(\n",
      "    (mlp_layers): Sequential(\n",
      "      (0): Dropout(p=0, inplace=False)\n",
      "      (1): Linear(in_features=128, out_features=128, bias=True)\n",
      "      (2): Tanh()\n",
      "      (3): Dropout(p=0, inplace=False)\n",
      "      (4): Linear(in_features=128, out_features=128, bias=True)\n",
      "      (5): Tanh()\n",
      "    )\n",
      "  )\n",
      "  (source_user_embedding): Embedding(23012, 128)\n",
      "  (source_item_embedding): Embedding(11837, 128)\n",
      "  (target_user_embedding): Embedding(23012, 128)\n",
      "  (target_item_embedding): Embedding(11837, 128)\n",
      "  (map_loss): MSELoss()\n",
      "  (rec_loss): TripletMarginLoss()\n",
      ")\n",
      "Trainable parameters: 8954368\n"
     ]
    }
   ],
   "source": [
    "# @Time   : 2022/3/11\n",
    "# @Author : Zihan Lin\n",
    "# @Email  : zhlin@ruc.edu.cn\n",
    "\n",
    "import argparse\n",
    "\n",
    "from recbole_cdr.quick_start import run_recbole_cdr\n",
    "\n",
    "\n",
    "parser = argparse.ArgumentParser()\n",
    "parser.add_argument('--model', '-m', type=str, default='SSCDR', help='name of models')\n",
    "parser.add_argument('--config_files', type=str, default=None, help='config files')\n",
    "\n",
    "args, _ = parser.parse_known_args()\n",
    "\n",
    "config_file_list = args.config_files.strip().split(' ') if args.config_files else None\n",
    "run_recbole_cdr(model=args.model, config_file_list=config_file_list)\n"
   ]
  },
  {
   "cell_type": "code",
   "execution_count": 3,
   "metadata": {},
   "outputs": [
    {
     "name": "stdout",
     "output_type": "stream",
     "text": [
      "Digital Music len: 836006\n",
      "Video Games len: 1324753\n"
     ]
    }
   ],
   "source": [
    "import pandas as pd\n",
    "\n",
    "digital_music = pd.read_csv('/home/hadh2/projects/cross_domain/data/Amazon/AmazonDigitalMusic/AmazonDigitalMusic.inter', sep='\\t')\n",
    "video_games = pd.read_csv('/home/hadh2/projects/cross_domain/data/Amazon/AmazonVideoGames/AmazonVideoGames.inter', sep='\\t')\n",
    "print(f'Digital Music len: {len(digital_music)}')\n",
    "print(f'Video Games len: {len(video_games)}')\n"
   ]
  },
  {
   "cell_type": "code",
   "execution_count": 5,
   "metadata": {},
   "outputs": [
    {
     "data": {
      "text/html": [
       "<div>\n",
       "<style scoped>\n",
       "    .dataframe tbody tr th:only-of-type {\n",
       "        vertical-align: middle;\n",
       "    }\n",
       "\n",
       "    .dataframe tbody tr th {\n",
       "        vertical-align: top;\n",
       "    }\n",
       "\n",
       "    .dataframe thead th {\n",
       "        text-align: right;\n",
       "    }\n",
       "</style>\n",
       "<table border=\"1\" class=\"dataframe\">\n",
       "  <thead>\n",
       "    <tr style=\"text-align: right;\">\n",
       "      <th></th>\n",
       "      <th>user_id:token</th>\n",
       "      <th>item_id:token</th>\n",
       "      <th>rating:float</th>\n",
       "      <th>timestamp:float</th>\n",
       "    </tr>\n",
       "  </thead>\n",
       "  <tbody>\n",
       "    <tr>\n",
       "      <th>0</th>\n",
       "      <td>A2EFCYXHNK06IS</td>\n",
       "      <td>5555991584</td>\n",
       "      <td>5.0</td>\n",
       "      <td>978480000</td>\n",
       "    </tr>\n",
       "    <tr>\n",
       "      <th>1</th>\n",
       "      <td>A1WR23ER5HMAA9</td>\n",
       "      <td>5555991584</td>\n",
       "      <td>5.0</td>\n",
       "      <td>953424000</td>\n",
       "    </tr>\n",
       "    <tr>\n",
       "      <th>2</th>\n",
       "      <td>A2IR4Q0GPAFJKW</td>\n",
       "      <td>5555991584</td>\n",
       "      <td>4.0</td>\n",
       "      <td>1393545600</td>\n",
       "    </tr>\n",
       "    <tr>\n",
       "      <th>3</th>\n",
       "      <td>A2V0KUVAB9HSYO</td>\n",
       "      <td>5555991584</td>\n",
       "      <td>4.0</td>\n",
       "      <td>966124800</td>\n",
       "    </tr>\n",
       "    <tr>\n",
       "      <th>4</th>\n",
       "      <td>A1J0GL9HCA7ELW</td>\n",
       "      <td>5555991584</td>\n",
       "      <td>5.0</td>\n",
       "      <td>1007683200</td>\n",
       "    </tr>\n",
       "    <tr>\n",
       "      <th>...</th>\n",
       "      <td>...</td>\n",
       "      <td>...</td>\n",
       "      <td>...</td>\n",
       "      <td>...</td>\n",
       "    </tr>\n",
       "    <tr>\n",
       "      <th>836001</th>\n",
       "      <td>A38NRGVVEF3950</td>\n",
       "      <td>B00LWJDZHI</td>\n",
       "      <td>5.0</td>\n",
       "      <td>1405641600</td>\n",
       "    </tr>\n",
       "    <tr>\n",
       "      <th>836002</th>\n",
       "      <td>A36ZEAXJ5HMQXA</td>\n",
       "      <td>B00LWJDZHI</td>\n",
       "      <td>5.0</td>\n",
       "      <td>1406073600</td>\n",
       "    </tr>\n",
       "    <tr>\n",
       "      <th>836003</th>\n",
       "      <td>A1840L5R4OPDE4</td>\n",
       "      <td>B00LWJDZHI</td>\n",
       "      <td>5.0</td>\n",
       "      <td>1405900800</td>\n",
       "    </tr>\n",
       "    <tr>\n",
       "      <th>836004</th>\n",
       "      <td>A1HGHLLGGGAQZX</td>\n",
       "      <td>B00LWJDZHI</td>\n",
       "      <td>5.0</td>\n",
       "      <td>1405814400</td>\n",
       "    </tr>\n",
       "    <tr>\n",
       "      <th>836005</th>\n",
       "      <td>A2SWE776KGEYPI</td>\n",
       "      <td>B00LWJDZHI</td>\n",
       "      <td>5.0</td>\n",
       "      <td>1405987200</td>\n",
       "    </tr>\n",
       "  </tbody>\n",
       "</table>\n",
       "<p>786273 rows × 4 columns</p>\n",
       "</div>"
      ],
      "text/plain": [
       "         user_id:token item_id:token  rating:float  timestamp:float\n",
       "0       A2EFCYXHNK06IS    5555991584           5.0        978480000\n",
       "1       A1WR23ER5HMAA9    5555991584           5.0        953424000\n",
       "2       A2IR4Q0GPAFJKW    5555991584           4.0       1393545600\n",
       "3       A2V0KUVAB9HSYO    5555991584           4.0        966124800\n",
       "4       A1J0GL9HCA7ELW    5555991584           5.0       1007683200\n",
       "...                ...           ...           ...              ...\n",
       "836001  A38NRGVVEF3950    B00LWJDZHI           5.0       1405641600\n",
       "836002  A36ZEAXJ5HMQXA    B00LWJDZHI           5.0       1406073600\n",
       "836003  A1840L5R4OPDE4    B00LWJDZHI           5.0       1405900800\n",
       "836004  A1HGHLLGGGAQZX    B00LWJDZHI           5.0       1405814400\n",
       "836005  A2SWE776KGEYPI    B00LWJDZHI           5.0       1405987200\n",
       "\n",
       "[786273 rows x 4 columns]"
      ]
     },
     "execution_count": 5,
     "metadata": {},
     "output_type": "execute_result"
    }
   ],
   "source": [
    "digital_music"
   ]
  },
  {
   "cell_type": "code",
   "execution_count": 4,
   "metadata": {},
   "outputs": [
    {
     "name": "stdout",
     "output_type": "stream",
     "text": [
      "Digital Music len: 786273\n",
      "Video Games len: 1094400\n"
     ]
    }
   ],
   "source": [
    "digital_music = digital_music[digital_music['rating:float'] >= 3.0]\n",
    "video_games = video_games[video_games['rating:float'] >= 3.0]\n",
    "print(f'Digital Music len: {len(digital_music)}')\n",
    "print(f'Video Games len: {len(video_games)}')"
   ]
  },
  {
   "cell_type": "code",
   "execution_count": 6,
   "metadata": {},
   "outputs": [
    {
     "name": "stdout",
     "output_type": "stream",
     "text": [
      "Digital Music len: 222017\n",
      "Video Games len: 240489\n"
     ]
    }
   ],
   "source": [
    "def retain(df):\n",
    "    user_interaction_counts = df.groupby('user_id:token').size()\n",
    "\n",
    "    # Lọc ra các user có số lượng interaction ít hơn 5\n",
    "    users_to_remove = user_interaction_counts[user_interaction_counts < 5].index\n",
    "\n",
    "    # Loại bỏ các user này khỏi DataFrame\n",
    "    df = df[~df['user_id:token'].isin(users_to_remove)]\n",
    "\n",
    "    # Nhóm theo item_id và tính số lượng interaction của mỗi item\n",
    "    item_interaction_counts = digital_music.groupby('item_id:token').size()\n",
    "\n",
    "    # Lọc ra các item có số lượng interaction ít hơn 5\n",
    "    items_to_remove = item_interaction_counts[item_interaction_counts < 5].index\n",
    "\n",
    "    # Loại bỏ các item này khỏi DataFrame\n",
    "    df = df[~df['user_id:token'].isin(items_to_remove)]\n",
    "\n",
    "    return df\n",
    "\n",
    "digital_music = retain(digital_music)\n",
    "video_games = retain(video_games)\n",
    "print(f'Digital Music len: {len(digital_music)}')\n",
    "print(f'Video Games len: {len(video_games)}')"
   ]
  },
  {
   "cell_type": "code",
   "execution_count": 7,
   "metadata": {},
   "outputs": [
    {
     "name": "stdout",
     "output_type": "stream",
     "text": [
      "Digital Music num users: 21454\n",
      "Video Games num users: 25098\n"
     ]
    }
   ],
   "source": [
    "digital_music_users = set(digital_music['user_id:token'].to_list())\n",
    "video_games_users = set(video_games['user_id:token'].to_list())\n",
    "print(f'Digital Music num users: {len(digital_music_users)}')\n",
    "print(f'Video Games num users: {len(video_games_users)}')"
   ]
  },
  {
   "cell_type": "code",
   "execution_count": 8,
   "metadata": {},
   "outputs": [
    {
     "data": {
      "text/plain": [
       "988"
      ]
     },
     "execution_count": 8,
     "metadata": {},
     "output_type": "execute_result"
    }
   ],
   "source": [
    "len(digital_music_users.intersection(video_games_users))"
   ]
  },
  {
   "cell_type": "code",
   "execution_count": 10,
   "metadata": {},
   "outputs": [
    {
     "name": "stdout",
     "output_type": "stream",
     "text": [
      "Digital Music num items: 110851\n",
      "Video Games num items: 30379\n"
     ]
    },
    {
     "data": {
      "text/plain": [
       "0"
      ]
     },
     "execution_count": 10,
     "metadata": {},
     "output_type": "execute_result"
    }
   ],
   "source": [
    "digital_music_items = set(digital_music['item_id:token'].to_list())\n",
    "video_games_items = set(video_games['item_id:token'].to_list())\n",
    "print(f'Digital Music num items: {len(digital_music_items)}')\n",
    "print(f'Video Games num items: {len(video_games_items)}')\n",
    "len(digital_music_items.intersection(video_games_items))"
   ]
  },
  {
   "cell_type": "code",
   "execution_count": 12,
   "metadata": {},
   "outputs": [
    {
     "data": {
      "text/plain": [
       "943"
      ]
     },
     "execution_count": 12,
     "metadata": {},
     "output_type": "execute_result"
    }
   ],
   "source": [
    "import pandas as pd\n",
    "\n",
    "ml_1m = pd.read_csv('/home/hadh2/projects/cross_domain/RecBole-CDR/recbole_cdr/dataset_example/ml-1m/ml-1m.inter', sep='\\t')\n",
    "ml_100k = pd.read_csv('/home/hadh2/projects/cross_domain/RecBole-CDR/recbole_cdr/dataset_example/ml-100k/ml-100k.inter', sep='\\t')\n",
    "ml_1m_users = ml_1m['user_id:token'].apply(lambda x: x.replace('1m_', '')).to_list()\n",
    "ml_100k_users = ml_100k['user_id:token'].apply(lambda x: x.replace('100k_', '')).to_list()\n",
    "ml_1m_users = set(ml_1m_users)\n",
    "ml_100k_users = set(ml_100k_users)\n",
    "len(ml_1m_users.intersection(ml_100k_users))"
   ]
  }
 ],
 "metadata": {
  "kernelspec": {
   "display_name": "myenv",
   "language": "python",
   "name": "python3"
  },
  "language_info": {
   "codemirror_mode": {
    "name": "ipython",
    "version": 3
   },
   "file_extension": ".py",
   "mimetype": "text/x-python",
   "name": "python",
   "nbconvert_exporter": "python",
   "pygments_lexer": "ipython3",
   "version": "3.9.19"
  }
 },
 "nbformat": 4,
 "nbformat_minor": 2
}
